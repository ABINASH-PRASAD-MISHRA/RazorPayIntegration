{
 "cells": [
  {
   "cell_type": "code",
   "execution_count": 11,
   "metadata": {},
   "outputs": [],
   "source": [
    "import os \n"
   ]
  },
  {
   "cell_type": "code",
   "execution_count": 12,
   "metadata": {},
   "outputs": [],
   "source": [
    "def registerwindow():\n",
    "    print(\"register window options\")\n",
    "    return 0"
   ]
  },
  {
   "cell_type": "code",
   "execution_count": 13,
   "metadata": {},
   "outputs": [],
   "source": [
    "def loginwindow():\n",
    "    regcode='0000'\n",
    "    print(\"login window options\")\n",
    "    print(\"Enter Code\")\n",
    "    code = input()\n",
    "    if (code == regcode):\n",
    "        print(\"Passcode verified\")\n",
    "        verify_pass=1\n",
    "        if (verify_pass == 1):\n",
    "            upiwindow()\n",
    "    else: \n",
    "        print(\"Passcode verification failed\")\n",
    "        mainmenu()\n",
    "    return 0"
   ]
  },
  {
   "cell_type": "code",
   "execution_count": 14,
   "metadata": {},
   "outputs": [],
   "source": [
    "def upiwindow():\n",
    "    print(\"UPI window options\")\n",
    "    print(\"Menu:\")\n",
    "    print(\"1. Payment Order\")\n",
    "    print(\"2. Get Payment Status\")\n",
    "    print(\"Enter Code to continue...\")\n",
    "    code = input()\n",
    "    if (code == \"1\"):\n",
    "        print(\"Payment Windows\")\n",
    "        payment_order()\n",
    "    else: \n",
    "        print(\"Returning to main menu....\")\n",
    "        mainmenu()\n",
    "    return 0"
   ]
  },
  {
   "cell_type": "code",
   "execution_count": 15,
   "metadata": {},
   "outputs": [],
   "source": [
    "import razorpay"
   ]
  },
  {
   "cell_type": "code",
   "execution_count": 16,
   "metadata": {},
   "outputs": [],
   "source": [
    "#razorpay Credentials \n",
    "razorpay_client = razorpay.Client(auth=(\"test_account\", \"test_password\"))"
   ]
  },
  {
   "cell_type": "code",
   "execution_count": 17,
   "metadata": {},
   "outputs": [],
   "source": [
    "def payment_order():\n",
    "    razorpay_client = razorpay.Client(auth=(\"test_account\", \"test_password\"))\n",
    "    print(\"Enter Amount\")\n",
    "    input_amount=input()\n",
    "    order_amount=int(input_amount)*100\n",
    "    print(type(order_amount))\n",
    "    order_currency = 'INR'\n",
    "    order_receipt='1'\n",
    "    data={'amount':order_amount,'currency':order_currency,'receipt':order_receipt, 'payment_capture':'1'}\n",
    "    razorpay_client.order.create(data)\n",
    "    print(\"Order for {} is done.\".format(order_amount))\n",
    "    return 0"
   ]
  },
  {
   "cell_type": "code",
   "execution_count": 18,
   "metadata": {},
   "outputs": [],
   "source": [
    "def mainmenu():\n",
    "        print(\"Welcome to Our Services\")\n",
    "        print(\"-----\")\n",
    "        print(\"Enter 1 to register, 2 for login\")\n",
    "        response = input()\n",
    "        if(response=='1'):\n",
    "            print(\"Register Window\")\n",
    "        elif (response=='2'):\n",
    "            print(\"login Window\")\n",
    "            loginwindow()\n",
    "        else: \n",
    "            print(\"Main Menu\")\n",
    "            \n",
    "        return 0 "
   ]
  },
  {
   "cell_type": "code",
   "execution_count": 19,
   "metadata": {},
   "outputs": [
    {
     "name": "stdout",
     "output_type": "stream",
     "text": [
      "Welcome to Our Services\n",
      "-----\n",
      "Enter 1 to register, 2 for login\n",
      "2\n",
      "login Window\n",
      "login window options\n",
      "Enter Code\n",
      "0000\n",
      "Passcode verified\n",
      "UPI window options\n",
      "Menu:\n",
      "1. Payment Order\n",
      "2. Get Payment Status\n",
      "Enter Code to continue...\n",
      "2\n",
      "Returning to main menu....\n",
      "Welcome to Our Services\n",
      "-----\n",
      "Enter 1 to register, 2 for login\n",
      "2\n",
      "login Window\n",
      "login window options\n",
      "Enter Code\n",
      "0000\n",
      "Passcode verified\n",
      "UPI window options\n",
      "Menu:\n",
      "1. Payment Order\n",
      "2. Get Payment Status\n",
      "Enter Code to continue...\n",
      "1\n",
      "Payment Windows\n",
      "Enter Amount\n",
      "25\n",
      "<class 'int'>\n",
      "Order for 2500 is done.\n"
     ]
    },
    {
     "data": {
      "text/plain": [
       "0"
      ]
     },
     "execution_count": 19,
     "metadata": {},
     "output_type": "execute_result"
    }
   ],
   "source": [
    "mainmenu()"
   ]
  },
  {
   "cell_type": "code",
   "execution_count": null,
   "metadata": {},
   "outputs": [],
   "source": []
  },
  {
   "cell_type": "code",
   "execution_count": null,
   "metadata": {},
   "outputs": [],
   "source": []
  },
  {
   "cell_type": "code",
   "execution_count": null,
   "metadata": {},
   "outputs": [],
   "source": []
  },
  {
   "cell_type": "code",
   "execution_count": null,
   "metadata": {},
   "outputs": [],
   "source": []
  },
  {
   "cell_type": "code",
   "execution_count": null,
   "metadata": {},
   "outputs": [],
   "source": []
  },
  {
   "cell_type": "code",
   "execution_count": null,
   "metadata": {},
   "outputs": [],
   "source": [
    "\n",
    "\n",
    "    "
   ]
  },
  {
   "cell_type": "code",
   "execution_count": null,
   "metadata": {},
   "outputs": [],
   "source": []
  },
  {
   "cell_type": "code",
   "execution_count": null,
   "metadata": {},
   "outputs": [],
   "source": []
  },
  {
   "cell_type": "code",
   "execution_count": null,
   "metadata": {},
   "outputs": [],
   "source": []
  }
 ],
 "metadata": {
  "kernelspec": {
   "display_name": "Python 3",
   "language": "python",
   "name": "python3"
  },
  "language_info": {
   "codemirror_mode": {
    "name": "ipython",
    "version": 3
   },
   "file_extension": ".py",
   "mimetype": "text/x-python",
   "name": "python",
   "nbconvert_exporter": "python",
   "pygments_lexer": "ipython3",
   "version": "3.7.3"
  }
 },
 "nbformat": 4,
 "nbformat_minor": 2
}
